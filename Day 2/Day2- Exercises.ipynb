{
 "cells": [
  {
   "cell_type": "code",
   "execution_count": 3,
   "metadata": {},
   "outputs": [
    {
     "name": "stdout",
     "output_type": "stream",
     "text": [
      "11\n"
     ]
    }
   ],
   "source": [
    "#Exercise 1\n",
    "two_digit_number = input(\"Enter a 2 Digit Number\")\n",
    "type(two_digit_number) #str\n",
    "sum_of_digits = int(two_digit_number[0])+int(two_digit_number[1])\n",
    "print(sum_of_digits)"
   ]
  },
  {
   "cell_type": "code",
   "execution_count": 4,
   "metadata": {},
   "outputs": [
    {
     "name": "stdout",
     "output_type": "stream",
     "text": [
      "26\n"
     ]
    }
   ],
   "source": [
    "#Exercise 2\n",
    "height = input(\"enter your height in m: \")\n",
    "weight = input(\"enter your weight in kg: \")\n",
    "# 🚨 Don't change the code above 👆\n",
    "\n",
    "#Write your code below this line 👇\n",
    "BMI = int(weight)/(float(height)**2)\n",
    "print(int(BMI))"
   ]
  },
  {
   "cell_type": "code",
   "execution_count": 6,
   "metadata": {},
   "outputs": [
    {
     "name": "stdout",
     "output_type": "stream",
     "text": [
      "You have 12410 days, 1768 weeks and 408 months left.\n"
     ]
    }
   ],
   "source": [
    "#Exercise 3\n",
    "age = input(\"What is your current age?\")\n",
    "age_int = int(age)\n",
    "days = (90*365)-(age_int*365)\n",
    "weeks = (90*52)-(age_int*52)\n",
    "months = (90*12)-(age_int*12)\n",
    "\n",
    "print(f\"You have {days} days, {weeks} weeks, and {months} months left.\")"
   ]
  }
 ],
 "metadata": {
  "interpreter": {
   "hash": "99ecc5ca587f02bc0c70382f2e26f8522058f90887eba9b85219c30319f56719"
  },
  "kernelspec": {
   "display_name": "Python 3.9.7 64-bit ('base': conda)",
   "language": "python",
   "name": "python3"
  },
  "language_info": {
   "codemirror_mode": {
    "name": "ipython",
    "version": 3
   },
   "file_extension": ".py",
   "mimetype": "text/x-python",
   "name": "python",
   "nbconvert_exporter": "python",
   "pygments_lexer": "ipython3",
   "version": "3.9.7"
  },
  "orig_nbformat": 4
 },
 "nbformat": 4,
 "nbformat_minor": 2
}
